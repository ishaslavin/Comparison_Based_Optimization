{
 "cells": [
  {
   "cell_type": "code",
   "execution_count": 1,
   "metadata": {},
   "outputs": [],
   "source": [
    "import numpy as np\n",
    "import copy as copy\n",
    "from Algorithms.base import BaseOptimizer\n",
    "from Algorithms.utils import BubbleSort\n",
    "from ExampleCode.benchmark_functions import NonSparseQuadratic\n",
    "from ExampleCode.oracle import Oracle\n",
    "from Algorithms.NM_optimizer import NMOptimizer"
   ]
  },
  {
   "cell_type": "code",
   "execution_count": 2,
   "metadata": {},
   "outputs": [],
   "source": [
    "x0 = 50*np.random.rand(5)\n",
    "n = len(x0)\n",
    "step_size = 5\n",
    "\n",
    "obj_func = NonSparseQuadratic(n, 0)\n",
    "oracle = Oracle(obj_func)\n",
    "\n",
    "## Create simplex\n",
    "simplex = np.zeros((n+1, n))\n",
    "simplex[0,:] = x0\n",
    "for i in range(n):\n",
    "    x=copy.copy(x0)\n",
    "    x[i] = x[i] + step_size\n",
    "    simplex[i+1,:] = x"
   ]
  },
  {
   "cell_type": "code",
   "execution_count": 3,
   "metadata": {},
   "outputs": [
    {
     "name": "stdout",
     "output_type": "stream",
     "text": [
      "[[ 9.56946736 47.82230892 43.93304572 45.80718184 42.85995659]\n",
      " [ 9.66946736 47.82230892 43.93304572 45.80718184 42.85995659]\n",
      " [ 9.56946736 47.92230892 43.93304572 45.80718184 42.85995659]\n",
      " [ 9.56946736 47.82230892 44.03304572 45.80718184 42.85995659]\n",
      " [ 9.56946736 47.82230892 43.93304572 45.90718184 42.85995659]\n",
      " [ 9.56946736 47.82230892 43.93304572 45.80718184 42.95995659]]\n"
     ]
    }
   ],
   "source": [
    "print(simplex)\n",
    "simplex,_ = BubbleSort(simplex, oracle)"
   ]
  },
  {
   "cell_type": "code",
   "execution_count": 4,
   "metadata": {},
   "outputs": [
    {
     "name": "stdout",
     "output_type": "stream",
     "text": [
      "[[ 9.56946736 47.82230892 43.93304572 45.80718184 42.85995659]\n",
      " [ 9.66946736 47.82230892 43.93304572 45.80718184 42.85995659]\n",
      " [ 9.56946736 47.82230892 43.93304572 45.80718184 42.95995659]\n",
      " [ 9.56946736 47.82230892 44.03304572 45.80718184 42.85995659]\n",
      " [ 9.56946736 47.82230892 43.93304572 45.90718184 42.85995659]\n",
      " [ 9.56946736 47.92230892 43.93304572 45.80718184 42.85995659]]\n"
     ]
    }
   ],
   "source": [
    "print(simplex)"
   ]
  },
  {
   "cell_type": "code",
   "execution_count": 5,
   "metadata": {},
   "outputs": [],
   "source": [
    "centroid = np.mean(simplex[0:n,:], axis=0)"
   ]
  },
  {
   "cell_type": "code",
   "execution_count": 6,
   "metadata": {},
   "outputs": [
    {
     "name": "stdout",
     "output_type": "stream",
     "text": [
      "[ 9.58946736 47.82230892 43.95304572 45.82718184 42.87995659]\n"
     ]
    }
   ],
   "source": [
    "print(centroid)"
   ]
  },
  {
   "cell_type": "code",
   "execution_count": 7,
   "metadata": {},
   "outputs": [
    {
     "name": "stdout",
     "output_type": "stream",
     "text": [
      "8243.934228830736\n"
     ]
    }
   ],
   "source": [
    "print(obj_func(simplex[0,:]))"
   ]
  },
  {
   "cell_type": "code",
   "execution_count": 8,
   "metadata": {},
   "outputs": [
    {
     "name": "stdout",
     "output_type": "stream",
     "text": [
      "8245.858122301934\n"
     ]
    }
   ],
   "source": [
    "print(obj_func(simplex[1,:]))"
   ]
  },
  {
   "cell_type": "code",
   "execution_count": 9,
   "metadata": {},
   "outputs": [
    {
     "name": "stdout",
     "output_type": "stream",
     "text": [
      "8252.516220149279\n"
     ]
    }
   ],
   "source": [
    "print(obj_func(simplex[2,:]))"
   ]
  },
  {
   "cell_type": "code",
   "execution_count": 10,
   "metadata": {},
   "outputs": [
    {
     "name": "stdout",
     "output_type": "stream",
     "text": [
      "[[ 9.66946736 47.82230892 43.93304572 45.80718184 42.85995659]\n",
      " [ 9.56946736 47.82230892 43.93304572 45.80718184 42.95995659]\n",
      " [ 9.56946736 47.82230892 44.03304572 45.80718184 42.85995659]\n",
      " [ 9.56946736 47.82230892 43.93304572 45.90718184 42.85995659]\n",
      " [ 9.56946736 47.92230892 43.93304572 45.80718184 42.85995659]]\n"
     ]
    }
   ],
   "source": [
    "print(simplex[1:,:])"
   ]
  },
  {
   "cell_type": "code",
   "execution_count": 11,
   "metadata": {},
   "outputs": [],
   "source": [
    "nmOpt = NMOptimizer(oracle, 1e5, x0, 0.1, obj_func)"
   ]
  },
  {
   "cell_type": "code",
   "execution_count": 16,
   "metadata": {},
   "outputs": [
    {
     "name": "stdout",
     "output_type": "stream",
     "text": [
      "[ 9.56946736 47.82230892 43.93304572 45.80718184 42.85995659]\n",
      "[ 9.56946736 47.82230892 43.93304572 45.80718184 42.85995659]\n",
      "[ 9.56946736 47.82230892 43.93304572 45.80718184 42.85995659]\n",
      "[ 9.56946736 47.82230892 43.93304572 45.80718184 42.85995659]\n",
      "[ 9.56946736 47.82230892 43.93304572 45.80718184 42.85995659]\n",
      "[ 9.56946736 47.82230892 43.93304572 45.80718184 42.85995659]\n",
      "[ 9.56946736 47.82230892 43.93304572 45.80718184 42.85995659]\n",
      "[ 9.56946736 47.82230892 43.93304572 45.80718184 42.85995659]\n",
      "[ 9.56946736 47.82230892 43.93304572 45.80718184 42.85995659]\n",
      "[ 9.56946736 47.82230892 43.93304572 45.80718184 42.85995659]\n",
      "[ 9.56946736 47.82230892 43.93304572 45.80718184 42.85995659]\n",
      "[ 9.56946736 47.82230892 43.93304572 45.80718184 42.85995659]\n",
      "[ 9.56946736 47.82230892 43.93304572 45.80718184 42.85995659]\n",
      "[ 9.56946736 47.82230892 43.93304572 45.80718184 42.85995659]\n",
      "[ 9.56946736 47.82230892 43.93304572 45.80718184 42.85995659]\n",
      "[ 9.56946736 47.82230892 43.93304572 45.80718184 42.85995659]\n",
      "[ 9.56946736 47.82230892 43.93304572 45.80718184 42.85995659]\n",
      "[ 9.56946736 47.82230892 43.93304572 45.80718184 42.85995659]\n",
      "[ 9.56946736 47.82230892 43.93304572 45.80718184 42.85995659]\n",
      "[ 9.56946736 47.82230892 43.93304572 45.80718184 42.85995659]\n",
      "[ 9.56946736 47.82230892 43.93304572 45.80718184 42.85995659]\n",
      "[ 9.56946736 47.82230892 43.93304572 45.80718184 42.85995659]\n",
      "[ 9.56946736 47.82230892 43.93304572 45.80718184 42.85995659]\n",
      "[ 9.56946736 47.82230892 43.93304572 45.80718184 42.85995659]\n",
      "[ 9.56946736 47.82230892 43.93304572 45.80718184 42.85995659]\n",
      "[ 9.56946736 47.82230892 43.93304572 45.80718184 42.85995659]\n",
      "[ 9.56946736 47.82230892 43.93304572 45.80718184 42.85995659]\n",
      "[ 9.56946736 47.82230892 43.93304572 45.80718184 42.85995659]\n",
      "[ 9.56946736 47.82230892 43.93304572 45.80718184 42.85995659]\n",
      "[ 9.56946736 47.82230892 43.93304572 45.80718184 42.85995659]\n",
      "[ 9.56946736 47.82230892 43.93304572 45.80718184 42.85995659]\n",
      "[ 9.56946736 47.82230892 43.93304572 45.80718184 42.85995659]\n",
      "[ 9.56946736 47.82230892 43.93304572 45.80718184 42.85995659]\n",
      "[ 9.56946736 47.82230892 43.93304572 45.80718184 42.85995659]\n",
      "[ 9.56946736 47.82230892 43.93304572 45.80718184 42.85995659]\n",
      "[ 9.56946736 47.82230892 43.93304572 45.80718184 42.85995659]\n",
      "[ 9.56946736 47.82230892 43.93304572 45.80718184 42.85995659]\n",
      "[ 9.56946736 47.82230892 43.93304572 45.80718184 42.85995659]\n",
      "[ 9.56946736 47.82230892 43.93304572 45.80718184 42.85995659]\n",
      "[ 9.56946736 47.82230892 43.93304572 45.80718184 42.85995659]\n",
      "[ 9.56946736 47.82230892 43.93304572 45.80718184 42.85995659]\n",
      "[ 9.56946736 47.82230892 43.93304572 45.80718184 42.85995659]\n",
      "[ 9.56946736 47.82230892 43.93304572 45.80718184 42.85995659]\n",
      "[ 9.56946736 47.82230892 43.93304572 45.80718184 42.85995659]\n",
      "[ 9.56946736 47.82230892 43.93304572 45.80718184 42.85995659]\n",
      "[ 9.56946736 47.82230892 43.93304572 45.80718184 42.85995659]\n",
      "[ 9.56946736 47.82230892 43.93304572 45.80718184 42.85995659]\n",
      "[ 9.56946736 47.82230892 43.93304572 45.80718184 42.85995659]\n",
      "[ 9.56946736 47.82230892 43.93304572 45.80718184 42.85995659]\n",
      "[ 9.56946736 47.82230892 43.93304572 45.80718184 42.85995659]\n",
      "[ 9.56946736 47.82230892 43.93304572 45.80718184 42.85995659]\n",
      "[ 9.56946736 47.82230892 43.93304572 45.80718184 42.85995659]\n",
      "[ 9.56946736 47.82230892 43.93304572 45.80718184 42.85995659]\n",
      "[ 9.56946736 47.82230892 43.93304572 45.80718184 42.85995659]\n",
      "[ 9.56946736 47.82230892 43.93304572 45.80718184 42.85995659]\n",
      "[ 9.56946736 47.82230892 43.93304572 45.80718184 42.85995659]\n",
      "[ 9.56946736 47.82230892 43.93304572 45.80718184 42.85995659]\n",
      "[ 9.56946736 47.82230892 43.93304572 45.80718184 42.85995659]\n",
      "[ 9.56946736 47.82230892 43.93304572 45.80718184 42.85995659]\n",
      "[ 9.56946736 47.82230892 43.93304572 45.80718184 42.85995659]\n",
      "[ 9.56946736 47.82230892 43.93304572 45.80718184 42.85995659]\n",
      "[ 9.56946736 47.82230892 43.93304572 45.80718184 42.85995659]\n",
      "[ 9.56946736 47.82230892 43.93304572 45.80718184 42.85995659]\n",
      "[ 9.56946736 47.82230892 43.93304572 45.80718184 42.85995659]\n",
      "[ 9.56946736 47.82230892 43.93304572 45.80718184 42.85995659]\n",
      "[ 9.56946736 47.82230892 43.93304572 45.80718184 42.85995659]\n",
      "[ 9.56946736 47.82230892 43.93304572 45.80718184 42.85995659]\n",
      "[ 9.56946736 47.82230892 43.93304572 45.80718184 42.85995659]\n",
      "[ 9.56946736 47.82230892 43.93304572 45.80718184 42.85995659]\n",
      "[ 9.56946736 47.82230892 43.93304572 45.80718184 42.85995659]\n",
      "[ 9.56946736 47.82230892 43.93304572 45.80718184 42.85995659]\n",
      "[ 9.56946736 47.82230892 43.93304572 45.80718184 42.85995659]\n",
      "[ 9.56946736 47.82230892 43.93304572 45.80718184 42.85995659]\n",
      "[ 9.56946736 47.82230892 43.93304572 45.80718184 42.85995659]\n",
      "[ 9.56946736 47.82230892 43.93304572 45.80718184 42.85995659]\n",
      "[ 9.56946736 47.82230892 43.93304572 45.80718184 42.85995659]\n",
      "[ 9.56946736 47.82230892 43.93304572 45.80718184 42.85995659]\n",
      "[ 9.56946736 47.82230892 43.93304572 45.80718184 42.85995659]\n",
      "[ 9.56946736 47.82230892 43.93304572 45.80718184 42.85995659]\n",
      "[ 9.56946736 47.82230892 43.93304572 45.80718184 42.85995659]\n",
      "[ 9.56946736 47.82230892 43.93304572 45.80718184 42.85995659]\n",
      "[ 9.56946736 47.82230892 43.93304572 45.80718184 42.85995659]\n",
      "[ 9.56946736 47.82230892 43.93304572 45.80718184 42.85995659]\n",
      "[ 9.56946736 47.82230892 43.93304572 45.80718184 42.85995659]\n",
      "[ 9.56946736 47.82230892 43.93304572 45.80718184 42.85995659]\n",
      "[ 9.56946736 47.82230892 43.93304572 45.80718184 42.85995659]\n",
      "[ 9.56946736 47.82230892 43.93304572 45.80718184 42.85995659]\n",
      "[ 9.56946736 47.82230892 43.93304572 45.80718184 42.85995659]\n",
      "[ 9.56946736 47.82230892 43.93304572 45.80718184 42.85995659]\n",
      "[ 9.56946736 47.82230892 43.93304572 45.80718184 42.85995659]\n",
      "[ 9.56946736 47.82230892 43.93304572 45.80718184 42.85995659]\n",
      "[ 9.56946736 47.82230892 43.93304572 45.80718184 42.85995659]\n",
      "[ 9.56946736 47.82230892 43.93304572 45.80718184 42.85995659]\n",
      "[ 9.56946736 47.82230892 43.93304572 45.80718184 42.85995659]\n",
      "[ 9.56946736 47.82230892 43.93304572 45.80718184 42.85995659]\n",
      "[ 9.56946736 47.82230892 43.93304572 45.80718184 42.85995659]\n",
      "[ 9.56946736 47.82230892 43.93304572 45.80718184 42.85995659]\n",
      "[ 9.56946736 47.82230892 43.93304572 45.80718184 42.85995659]\n",
      "[ 9.56946736 47.82230892 43.93304572 45.80718184 42.85995659]\n",
      "[ 9.56946736 47.82230892 43.93304572 45.80718184 42.85995659]\n"
     ]
    }
   ],
   "source": [
    "for k in range(100):\n",
    "    xx,f_vals, _, queries_hist = nmOpt.step()\n",
    "    print(xx)"
   ]
  },
  {
   "cell_type": "code",
   "execution_count": 13,
   "metadata": {},
   "outputs": [
    {
     "data": {
      "text/plain": [
       "[<matplotlib.lines.Line2D at 0x7f683ec0aeb0>]"
      ]
     },
     "execution_count": 13,
     "metadata": {},
     "output_type": "execute_result"
    },
    {
     "data": {
      "image/png": "[encoded data removed]",
      "text/plain": [
       "<Figure size 432x288 with 1 Axes>"
      ]
     },
     "metadata": {
      "needs_background": "light"
     },
     "output_type": "display_data"
    }
   ],
   "source": [
    "import matplotlib.pyplot as plt\n",
    "plt.plot(queries_hist, f_vals)"
   ]
  },
  {
   "cell_type": "code",
   "execution_count": 14,
   "metadata": {},
   "outputs": [
    {
     "name": "stdout",
     "output_type": "stream",
     "text": [
      "[ 9.56946736 47.82230892 43.93304572 45.80718184 42.85995659]\n"
     ]
    }
   ],
   "source": [
    "print(nmOpt.x)"
   ]
  },
  {
   "cell_type": "code",
   "execution_count": 15,
   "metadata": {},
   "outputs": [
    {
     "name": "stdout",
     "output_type": "stream",
     "text": [
      "[ 9.56946736 47.82230892 43.93304572 45.80718184 42.85995659]\n"
     ]
    }
   ],
   "source": [
    "print(x0)"
   ]
  },
  {
   "cell_type": "code",
   "execution_count": null,
   "metadata": {},
   "outputs": [],
   "source": []
  }
 ],
 "metadata": {
  "kernelspec": {
   "display_name": "Python 3",
   "language": "python",
   "name": "python3"
  },
  "language_info": {
   "codemirror_mode": {
    "name": "ipython",
    "version": 3
   },
   "file_extension": ".py",
   "mimetype": "text/x-python",
   "name": "python",
   "nbconvert_exporter": "python",
   "pygments_lexer": "ipython3",
   "version": "3.8.10"
  }
 },
 "nbformat": 4,
 "nbformat_minor": 4
}
