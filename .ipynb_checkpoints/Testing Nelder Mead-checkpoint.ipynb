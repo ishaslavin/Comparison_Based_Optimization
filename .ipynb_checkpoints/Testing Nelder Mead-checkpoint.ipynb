{
 "cells": [
  {
   "cell_type": "code",
   "execution_count": 1,
   "metadata": {},
   "outputs": [],
   "source": [
    "import numpy as np\n",
    "import copy as copy\n",
    "from Algorithms.base import BaseOptimizer\n",
    "from Algorithms.utils import BubbleSort\n",
    "from ExampleCode.benchmark_functions import NonSparseQuadratic, MaxK\n",
    "from ExampleCode.oracle import Oracle\n",
    "from Algorithms.NM_optimizer import NMOptimizer"
   ]
  },
  {
   "cell_type": "code",
   "execution_count": 2,
   "metadata": {},
   "outputs": [],
   "source": [
    "x0 = np.random.rand(200)\n",
    "n = len(x0)\n",
    "step_size = np.sqrt(n)\n",
    "\n",
    "obj_func = NonSparseQuadratic(n, 0)\n",
    "oracle = Oracle(obj_func)\n",
    "\n",
    "## Create simplex\n",
    "simplex = np.zeros((n+1, n))\n",
    "simplex[0,:] = x0\n",
    "for i in range(n):\n",
    "    x=copy.copy(x0)\n",
    "    x[i] = x[i] + step_size\n",
    "    simplex[i+1,:] = x"
   ]
  },
  {
   "cell_type": "code",
   "execution_count": 3,
   "metadata": {},
   "outputs": [
    {
     "name": "stdout",
     "output_type": "stream",
     "text": [
      "[[0.85875685 0.50285177 0.24251089 ... 0.61204985 0.23977636 0.76437831]\n",
      " [0.90875685 0.50285177 0.24251089 ... 0.61204985 0.23977636 0.76437831]\n",
      " [0.85875685 0.55285177 0.24251089 ... 0.61204985 0.23977636 0.76437831]\n",
      " ...\n",
      " [0.85875685 0.50285177 0.24251089 ... 0.66204985 0.23977636 0.76437831]\n",
      " [0.85875685 0.50285177 0.24251089 ... 0.61204985 0.28977636 0.76437831]\n",
      " [0.85875685 0.50285177 0.24251089 ... 0.61204985 0.23977636 0.81437831]]\n"
     ]
    }
   ],
   "source": [
    "print(simplex)\n",
    "simplex,_ = BubbleSort(simplex, oracle)"
   ]
  },
  {
   "cell_type": "code",
   "execution_count": 4,
   "metadata": {},
   "outputs": [
    {
     "name": "stdout",
     "output_type": "stream",
     "text": [
      "[[0.85875685 0.50285177 0.24251089 ... 0.61204985 0.23977636 0.76437831]\n",
      " [0.85875685 0.50285177 0.24251089 ... 0.61204985 0.23977636 0.76437831]\n",
      " [0.85875685 0.50285177 0.24251089 ... 0.61204985 0.23977636 0.76437831]\n",
      " ...\n",
      " [0.85875685 0.50285177 0.24251089 ... 0.61204985 0.23977636 0.76437831]\n",
      " [0.85875685 0.50285177 0.24251089 ... 0.61204985 0.23977636 0.76437831]\n",
      " [0.85875685 0.50285177 0.24251089 ... 0.61204985 0.23977636 0.76437831]]\n"
     ]
    }
   ],
   "source": [
    "print(simplex)"
   ]
  },
  {
   "cell_type": "code",
   "execution_count": 5,
   "metadata": {},
   "outputs": [],
   "source": [
    "centroid = np.mean(simplex[0:n,:], axis=0)"
   ]
  },
  {
   "cell_type": "code",
   "execution_count": 6,
   "metadata": {},
   "outputs": [
    {
     "name": "stdout",
     "output_type": "stream",
     "text": [
      "[0.85900685 0.50310177 0.24276089 0.88315926 0.27291626 0.11413612\n",
      " 0.46592426 0.35525182 0.23726631 0.73718179 0.17637025 0.36166337\n",
      " 0.41824918 0.04756996 0.7328773  0.8237057  0.47577667 0.82917938\n",
      " 0.50167471 0.2390229  0.55909433 0.98395815 0.48695297 0.54985748\n",
      " 0.11722704 0.60361275 0.06147162 0.70167859 0.73019441 0.98872068\n",
      " 0.64325215 0.8920491  0.30436514 0.68423003 0.08943302 0.37971254\n",
      " 0.82782756 0.60580019 0.26573119 0.17579528 0.10320031 0.35570755\n",
      " 0.33642734 0.35768107 0.01655056 0.38907377 0.42352455 0.51024016\n",
      " 0.25328925 0.58340404 0.7571834  0.35173353 0.66321717 0.38349167\n",
      " 0.8130601  0.98669964 0.68719471 0.07534517 0.40224834 0.86018356\n",
      " 0.74311245 0.92660401 0.29627221 0.02356262 0.06718805 0.98299197\n",
      " 0.71641203 0.60904016 0.57852758 0.72749134 0.02487711 0.87148205\n",
      " 0.78041443 0.86571733 0.86991884 0.17130429 0.33793826 0.25470811\n",
      " 0.01148683 0.93602667 0.80489422 0.54662413 0.43196044 0.01102201\n",
      " 0.61569154 0.47223002 0.59547125 0.93815896 0.84306397 0.99669095\n",
      " 0.14583538 0.94118606 0.10610047 0.92307666 0.38842013 0.70997018\n",
      " 0.51066743 0.52775117 0.65466726 0.29668017 0.76649446 0.25697321\n",
      " 0.78972231 0.85391596 0.86894421 0.27146998 0.05922448 0.32784167\n",
      " 0.92915184 0.83175999 0.93662858 0.71639309 0.04785617 0.81776821\n",
      " 0.09454451 0.10774522 0.70214648 0.64448645 0.06070271 0.23501358\n",
      " 0.80030863 0.96163373 0.72598465 0.15048978 0.80047231 0.16844942\n",
      " 0.11882409 0.33543263 0.97001088 0.05781128 0.79282897 0.50729712\n",
      " 0.98714896 0.72168253 0.52297868 0.42975789 0.7502463  0.19185248\n",
      " 0.97548578 0.85035228 0.10869547 0.01005081 0.40060755 0.31530151\n",
      " 0.57934401 0.93049705 0.09770643 0.73809736 0.1541102  0.48726962\n",
      " 0.92270106 0.30777973 0.63420649 0.75666598 0.2837981  0.47126475\n",
      " 0.03510581 0.98257498 0.81059774 0.02031285 0.41087515 0.42881054\n",
      " 0.08275826 0.07943828 0.40386539 0.64153525 0.85059713 0.04524069\n",
      " 0.04764188 0.32840935 0.5362667  0.37295592 0.53384437 0.71328851\n",
      " 0.79099098 0.53372029 0.9484605  0.07994541 0.67134019 0.2337474\n",
      " 0.85062796 0.89587752 0.94947973 0.65428326 0.10464951 0.63229417\n",
      " 0.08612822 0.01311521 0.87197495 0.61724936 0.11919059 0.07401101\n",
      " 0.87404395 0.38338657 0.25580762 0.66012681 0.94898796 0.61229985\n",
      " 0.24002636 0.76462831]\n"
     ]
    }
   ],
   "source": [
    "print(centroid)"
   ]
  },
  {
   "cell_type": "code",
   "execution_count": 7,
   "metadata": {},
   "outputs": [
    {
     "name": "stdout",
     "output_type": "stream",
     "text": [
      "70.6143536552591\n"
     ]
    }
   ],
   "source": [
    "print(obj_func(simplex[0,:]))"
   ]
  },
  {
   "cell_type": "code",
   "execution_count": 8,
   "metadata": {},
   "outputs": [
    {
     "name": "stdout",
     "output_type": "stream",
     "text": [
      "70.61783373622734\n"
     ]
    }
   ],
   "source": [
    "print(obj_func(simplex[1,:]))"
   ]
  },
  {
   "cell_type": "code",
   "execution_count": 9,
   "metadata": {},
   "outputs": [
    {
     "name": "stdout",
     "output_type": "stream",
     "text": [
      "70.61793085672623\n"
     ]
    }
   ],
   "source": [
    "print(obj_func(simplex[2,:]))"
   ]
  },
  {
   "cell_type": "code",
   "execution_count": 10,
   "metadata": {},
   "outputs": [
    {
     "name": "stdout",
     "output_type": "stream",
     "text": [
      "[[0.85875685 0.50285177 0.24251089 ... 0.61204985 0.23977636 0.76437831]\n",
      " [0.85875685 0.50285177 0.24251089 ... 0.61204985 0.23977636 0.76437831]\n",
      " [0.85875685 0.50285177 0.24251089 ... 0.61204985 0.23977636 0.76437831]\n",
      " ...\n",
      " [0.85875685 0.50285177 0.24251089 ... 0.61204985 0.23977636 0.76437831]\n",
      " [0.85875685 0.50285177 0.24251089 ... 0.61204985 0.23977636 0.76437831]\n",
      " [0.85875685 0.50285177 0.24251089 ... 0.61204985 0.23977636 0.76437831]]\n"
     ]
    }
   ],
   "source": [
    "print(simplex[1:,:])"
   ]
  },
  {
   "cell_type": "code",
   "execution_count": 11,
   "metadata": {},
   "outputs": [],
   "source": [
    "nmOpt = NMOptimizer(oracle, 1e6, x0, 0.1, obj_func)"
   ]
  },
  {
   "cell_type": "code",
   "execution_count": 12,
   "metadata": {},
   "outputs": [
    {
     "name": "stdout",
     "output_type": "stream",
     "text": [
      "0\n",
      "1\n",
      "2\n",
      "3\n",
      "4\n",
      "5\n",
      "6\n",
      "7\n",
      "8\n",
      "9\n",
      "10\n",
      "11\n",
      "12\n",
      "13\n",
      "14\n",
      "15\n",
      "16\n",
      "17\n",
      "18\n",
      "19\n",
      "20\n",
      "21\n",
      "22\n",
      "23\n",
      "24\n",
      "25\n",
      "26\n",
      "27\n",
      "28\n",
      "29\n",
      "30\n",
      "31\n",
      "32\n",
      "33\n",
      "34\n",
      "35\n",
      "36\n",
      "37\n",
      "38\n",
      "39\n",
      "40\n",
      "41\n",
      "42\n",
      "43\n",
      "44\n",
      "45\n",
      "46\n",
      "47\n",
      "48\n",
      "49\n",
      "50\n",
      "51\n",
      "52\n",
      "53\n",
      "54\n",
      "55\n",
      "56\n",
      "57\n",
      "58\n",
      "59\n",
      "60\n",
      "61\n",
      "62\n",
      "63\n",
      "64\n",
      "65\n",
      "66\n",
      "67\n",
      "68\n",
      "69\n",
      "70\n",
      "71\n",
      "72\n",
      "73\n",
      "74\n",
      "75\n",
      "76\n",
      "77\n",
      "78\n",
      "79\n",
      "80\n",
      "81\n",
      "82\n",
      "83\n",
      "84\n",
      "85\n",
      "86\n",
      "87\n",
      "88\n",
      "89\n",
      "90\n",
      "91\n",
      "92\n",
      "93\n",
      "94\n",
      "95\n",
      "96\n",
      "97\n",
      "98\n",
      "99\n",
      "100\n",
      "101\n",
      "102\n",
      "103\n",
      "104\n",
      "105\n",
      "106\n",
      "107\n",
      "108\n",
      "109\n",
      "110\n",
      "111\n",
      "112\n",
      "113\n",
      "114\n",
      "115\n",
      "116\n",
      "117\n",
      "118\n",
      "119\n",
      "120\n",
      "121\n",
      "122\n",
      "123\n",
      "124\n",
      "125\n",
      "126\n",
      "127\n",
      "128\n",
      "129\n",
      "130\n",
      "131\n",
      "132\n",
      "133\n",
      "134\n",
      "135\n",
      "136\n",
      "137\n",
      "138\n",
      "139\n",
      "140\n",
      "141\n",
      "142\n",
      "143\n",
      "144\n",
      "145\n",
      "146\n",
      "147\n",
      "148\n",
      "149\n",
      "150\n",
      "151\n",
      "152\n",
      "153\n",
      "154\n",
      "155\n",
      "156\n",
      "157\n",
      "158\n",
      "159\n",
      "160\n",
      "161\n",
      "162\n",
      "163\n",
      "164\n",
      "165\n",
      "166\n",
      "167\n",
      "168\n",
      "169\n",
      "170\n",
      "171\n",
      "172\n",
      "173\n",
      "174\n",
      "175\n",
      "176\n",
      "177\n",
      "178\n",
      "179\n",
      "180\n",
      "181\n",
      "182\n",
      "183\n",
      "184\n",
      "185\n",
      "186\n",
      "187\n",
      "188\n",
      "189\n",
      "190\n",
      "191\n",
      "192\n",
      "193\n",
      "194\n",
      "195\n",
      "196\n",
      "197\n",
      "198\n",
      "199\n"
     ]
    }
   ],
   "source": [
    "for k in range(200):\n",
    "    xx,f_vals, _, queries_hist = nmOpt.step()\n",
    "    print(k)"
   ]
  },
  {
   "cell_type": "code",
   "execution_count": 13,
   "metadata": {},
   "outputs": [
    {
     "data": {
      "text/plain": [
       "[<matplotlib.lines.Line2D at 0x7f0fb8ba0e80>]"
      ]
     },
     "execution_count": 13,
     "metadata": {},
     "output_type": "execute_result"
    },
    {
     "data": {
      "image/png": "[encoded data removed]",
      "text/plain": [
       "<Figure size 432x288 with 1 Axes>"
      ]
     },
     "metadata": {
      "needs_background": "light"
     },
     "output_type": "display_data"
    }
   ],
   "source": [
    "import matplotlib.pyplot as plt\n",
    "plt.plot(range(201), f_vals)"
   ]
  },
  {
   "cell_type": "code",
   "execution_count": 14,
   "metadata": {},
   "outputs": [
    {
     "name": "stdout",
     "output_type": "stream",
     "text": [
      "[0, 40202, 60304, 80406, 100508, 120610, 140712, 160814, 180916, 201018, 221120, 241222, 261324, 281427, 301529, 321631, 341733, 361835, 381937, 402039, 422141, 442243, 462345, 482447, 502549, 522651, 542753, 562855, 582957, 603059, 623161, 643263, 663365, 683467, 703569, 723671, 743773, 763875, 783977, 804079, 824181, 844283, 864385, 884487, 904589, 924691, 944793, 964895, 984997, 1005099, 1025201, 1045303, 1065405, 1085507, 1105609, 1125711, 1145813, 1165915, 1186017, 1206119, 1226221, 1246323, 1266425, 1286527, 1306629, 1326731, 1346833, 1366935, 1387037, 1407140, 1427242, 1447344, 1467446, 1487548, 1507650, 1527752, 1547854, 1567956, 1588058, 1608160, 1628262, 1648364, 1668466, 1688568, 1708670, 1728772, 1748874, 1768976, 1789078, 1809180, 1829282, 1849384, 1869486, 1889588, 1909690, 1929792, 1949894, 1969996, 1990098, 2010200, 2030302, 2050404, 2070506, 2090608, 2110710, 2130812, 2150914, 2171016, 2191118, 2211220, 2231322, 2251424, 2271526, 2291628, 2311730, 2331832, 2351934, 2372036, 2392138, 2412240, 2432342, 2452444, 2472546, 2492648, 2512750, 2532852, 2552954, 2573056, 2593158, 2613260, 2633362, 2653464, 2673566, 2693668, 2713770, 2733872, 2753974, 2774076, 2794178, 2814280, 2834382, 2854484, 2874586, 2894688, 2914790, 2934892, 2954994, 2975096, 2995199, 3015301, 3035403, 3055505, 3075607, 3095709, 3115811, 3135913, 3156015, 3176117, 3196219, 3216321, 3236423, 3256525, 3276627, 3296729, 3316831, 3336933, 3357035, 3377137, 3397239, 3417341, 3437443, 3457545, 3477647, 3497749, 3517851, 3537953, 3558055, 3578157, 3598259, 3618361, 3638463, 3658565, 3678667, 3698769, 3718871, 3738973, 3759075, 3779177, 3799279, 3819381, 3839483, 3859585, 3879687, 3899789, 3919891, 3939993, 3960095, 3980197, 4000299, 4020401, 4040503]\n"
     ]
    }
   ],
   "source": [
    "print(queries_hist)"
   ]
  },
  {
   "cell_type": "code",
   "execution_count": 15,
   "metadata": {},
   "outputs": [
    {
     "name": "stdout",
     "output_type": "stream",
     "text": [
      "[0.85875685 0.50285177 0.24251089 0.88290926 0.27266626 0.11388612\n",
      " 0.46567426 0.35500182 0.23701631 0.73693179 0.17612025 0.36141337\n",
      " 0.41799918 0.04731996 0.7326273  0.8234557  0.47552667 0.82892938\n",
      " 0.50142471 0.2387729  0.55884433 0.98370815 0.48670297 0.54960748\n",
      " 0.11697704 0.60336275 0.06122162 0.70142859 0.72994441 0.98847068\n",
      " 0.64300215 0.8917991  0.30411514 0.68398003 0.08918302 0.37946254\n",
      " 0.82757756 0.60555019 0.26548119 0.17554528 0.10295031 0.35545755\n",
      " 0.33617734 0.35743107 0.01630056 0.38882377 0.42327455 0.50999016\n",
      " 0.25303925 0.58315404 0.7569334  0.35148353 0.66296717 0.38324167\n",
      " 0.8128101  0.98644964 0.68694471 0.07509517 0.40199834 0.85993356\n",
      " 0.74286245 0.92635401 0.29602221 0.02331262 0.06693805 0.98274197\n",
      " 0.71616203 0.60879016 0.57827758 0.72724134 0.02462711 0.87123205\n",
      " 0.78016443 0.86546733 0.86966884 0.17105429 0.33768826 0.25445811\n",
      " 0.01123683 0.93577667 0.80464422 0.54637413 0.43171044 0.01077201\n",
      " 0.61544154 0.47198002 0.59522125 0.93790896 0.84281397 0.99669095\n",
      " 0.14558538 0.94093606 0.10585047 0.92282666 0.38817013 0.70972018\n",
      " 0.51041743 0.52750117 0.65441726 0.29643017 0.76624446 0.25672321\n",
      " 0.78947231 0.85366596 0.86869421 0.27121998 0.05897448 0.32759167\n",
      " 0.92890184 0.83150999 0.93637858 0.71614309 0.04760617 0.81751821\n",
      " 0.09429451 0.10749522 0.70189648 0.64423645 0.06045271 0.23476358\n",
      " 0.80005863 0.96138373 0.72573465 0.15023978 0.80022231 0.16819942\n",
      " 0.11857409 0.33518263 0.96976088 0.05756128 0.79257897 0.50704712\n",
      " 0.98689896 0.72143253 0.52272868 0.42950789 0.7499963  0.19160248\n",
      " 0.97523578 0.85010228 0.10844547 0.00980081 0.40035755 0.31505151\n",
      " 0.57909401 0.93024705 0.09745643 0.73784736 0.1538602  0.48701962\n",
      " 0.92245106 0.30752973 0.63395649 0.75641598 0.2835481  0.47101475\n",
      " 0.03485581 0.98232498 0.81034774 0.02006285 0.41062515 0.42856054\n",
      " 0.08250826 0.07918828 0.40361539 0.64128525 0.85034713 0.04499069\n",
      " 0.04739188 0.32815935 0.5360167  0.37270592 0.53359437 0.71303851\n",
      " 0.79074098 0.53347029 0.9482105  0.07969541 0.67109019 0.2334974\n",
      " 0.85037796 0.89562752 0.94922973 0.65403326 0.10439951 0.63204417\n",
      " 0.08587822 0.01286521 0.87172495 0.61699936 0.11894059 0.07376101\n",
      " 0.87379395 0.38313657 0.25555762 0.65987681 0.94873796 0.61204985\n",
      " 0.23977636 0.76437831]\n"
     ]
    }
   ],
   "source": [
    "print(x0)"
   ]
  },
  {
   "cell_type": "code",
   "execution_count": null,
   "metadata": {},
   "outputs": [],
   "source": []
  }
 ],
 "metadata": {
  "kernelspec": {
   "display_name": "Python 3",
   "language": "python",
   "name": "python3"
  },
  "language_info": {
   "codemirror_mode": {
    "name": "ipython",
    "version": 3
   },
   "file_extension": ".py",
   "mimetype": "text/x-python",
   "name": "python",
   "nbconvert_exporter": "python",
   "pygments_lexer": "ipython3",
   "version": "3.8.10"
  }
 },
 "nbformat": 4,
 "nbformat_minor": 4
}
