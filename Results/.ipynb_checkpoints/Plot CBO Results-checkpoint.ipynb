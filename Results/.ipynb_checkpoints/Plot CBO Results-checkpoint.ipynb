{
 "cells": [
  {
   "cell_type": "code",
   "execution_count": 22,
   "metadata": {},
   "outputs": [],
   "source": [
    "import numpy as np\n",
    "import pickle as pkl\n",
    "import matplotlib.pyplot as plt\n",
    "import math"
   ]
  },
  {
   "cell_type": "code",
   "execution_count": 86,
   "metadata": {},
   "outputs": [],
   "source": [
    "# Load Data from pickle file\n",
    "myFile = open('Comparison_Opt_March_9_grad_1e5.p', 'rb')\n",
    "results = pkl.load(myFile)\n",
    "# myFile.close()\n",
    "# myFile2 = open('Comparison_Opt_May_25_4.p', 'rb')\n",
    "#results2 = pkl.load(myFile2)\n",
    "myFile.close()"
   ]
  },
  {
   "cell_type": "code",
   "execution_count": 87,
   "metadata": {},
   "outputs": [],
   "source": [
    "Evals = results[\"Evals\"]\n",
    "# Evals2 = results2[\"Evals\"]\n",
    "function_budget = results[\"function_budget\"]"
   ]
  },
  {
   "cell_type": "code",
   "execution_count": 88,
   "metadata": {},
   "outputs": [
    {
     "name": "stdout",
     "output_type": "stream",
     "text": [
      "(5, 22, 5)\n"
     ]
    }
   ],
   "source": [
    "print(Evals.shape)"
   ]
  },
  {
   "cell_type": "code",
   "execution_count": 89,
   "metadata": {},
   "outputs": [
    {
     "ename": "NameError",
     "evalue": "name 'Evals2' is not defined",
     "output_type": "error",
     "traceback": [
      "\u001b[0;31m---------------------------------------------------------------------------\u001b[0m",
      "\u001b[0;31mNameError\u001b[0m                                 Traceback (most recent call last)",
      "\u001b[0;32m<ipython-input-89-05b3cd290291>\u001b[0m in \u001b[0;36m<module>\u001b[0;34m\u001b[0m\n\u001b[0;32m----> 1\u001b[0;31m \u001b[0mEvals3\u001b[0m \u001b[0;34m=\u001b[0m \u001b[0mnp\u001b[0m\u001b[0;34m.\u001b[0m\u001b[0mconcatenate\u001b[0m\u001b[0;34m(\u001b[0m\u001b[0;34m(\u001b[0m\u001b[0mEvals\u001b[0m\u001b[0;34m,\u001b[0m \u001b[0mEvals2\u001b[0m\u001b[0;34m)\u001b[0m\u001b[0;34m,\u001b[0m\u001b[0maxis\u001b[0m\u001b[0;34m=\u001b[0m\u001b[0;36m1\u001b[0m\u001b[0;34m)\u001b[0m\u001b[0;34m\u001b[0m\u001b[0;34m\u001b[0m\u001b[0m\n\u001b[0m",
      "\u001b[0;31mNameError\u001b[0m: name 'Evals2' is not defined"
     ]
    }
   ],
   "source": [
    "Evals3 = np.concatenate((Evals, Evals2),axis=1)"
   ]
  },
  {
   "cell_type": "code",
   "execution_count": 90,
   "metadata": {},
   "outputs": [
    {
     "name": "stdout",
     "output_type": "stream",
     "text": [
      "[[4.54000e+02 4.82000e+02 2.72400e+02 2.58000e+02 2.67600e+02         inf\n",
      "          inf         inf 7.98800e+02         inf         inf 7.56000e+02\n",
      "          inf 5.45640e+03 1.84148e+04         inf         inf 1.67600e+02\n",
      "          inf 7.25596e+04 5.96000e+01 1.09600e+02]\n",
      " [1.10544e+04 1.02000e+04 6.40120e+03 6.24560e+03 3.48520e+03 7.48480e+03\n",
      "  6.94592e+04 9.32072e+04 2.34844e+04 9.15080e+03 7.82880e+03 3.41336e+04\n",
      "          inf 3.19244e+04         inf         inf 5.47336e+04 1.30800e+02\n",
      "  2.98400e+02 2.43600e+02 2.01280e+03 3.67600e+02]\n",
      " [8.52000e+02 6.90000e+02 5.40000e+02 5.02000e+02 6.06000e+02         inf\n",
      "          inf         inf 1.21980e+04         inf         inf 1.25600e+03\n",
      "          inf         inf 4.49560e+04         inf         inf 4.44000e+02\n",
      "          inf 7.76620e+04 1.48000e+02 2.46000e+02]\n",
      " [4.83400e+03 5.07700e+03 3.05200e+03 3.11500e+03 3.30400e+03         inf\n",
      "          inf         inf 5.94100e+03         inf         inf 8.83900e+03\n",
      "          inf 1.98100e+04         inf         inf         inf 1.20700e+03\n",
      "  6.12514e+04 8.07130e+04 1.81000e+02 5.14000e+02]\n",
      " [6.91700e+04 5.07800e+04 2.12600e+04 1.42800e+04 8.26320e+04         inf\n",
      "          inf         inf 1.24460e+04         inf         inf 1.73000e+04\n",
      "          inf 7.56800e+04         inf         inf         inf 1.42280e+04\n",
      "          inf         inf 2.20352e+04 5.10408e+04]]\n"
     ]
    }
   ],
   "source": [
    "# average over trials\n",
    "Averaged_Evals = np.mean(Evals, axis=2)\n",
    "# Modify to assign nan to any entries = function_budget, as these\n",
    "# correspond to problems that have not been solved\n",
    "for i in range(Averaged_Evals.shape[0]):\n",
    "    for j in range(Averaged_Evals.shape[1]):\n",
    "        if Averaged_Evals[i,j] >= function_budget:\n",
    "            Averaged_Evals[i,j] = np.inf\n",
    "            \n",
    "print(Averaged_Evals)"
   ]
  },
  {
   "cell_type": "code",
   "execution_count": 91,
   "metadata": {},
   "outputs": [
    {
     "name": "stdout",
     "output_type": "stream",
     "text": [
      "[4.54000e+02 4.82000e+02 2.72400e+02 2.58000e+02 2.67600e+02 7.48480e+03\n",
      " 6.94592e+04 9.32072e+04 7.98800e+02 9.15080e+03 7.82880e+03 7.56000e+02\n",
      "         inf 5.45640e+03 1.84148e+04         inf 5.47336e+04 1.30800e+02\n",
      " 2.98400e+02 2.43600e+02 5.96000e+01 1.09600e+02]\n"
     ]
    }
   ],
   "source": [
    "min_Evals = np.min(Averaged_Evals,axis=0)\n",
    "print(min_Evals)"
   ]
  },
  {
   "cell_type": "code",
   "execution_count": 92,
   "metadata": {},
   "outputs": [
    {
     "name": "stdout",
     "output_type": "stream",
     "text": [
      "[[  1.           1.           1.           1.           1.\n",
      "           inf          inf          inf   1.                  inf\n",
      "           inf   1.                  nan   1.           1.\n",
      "           nan          inf   1.28134557          inf 297.863711\n",
      "    1.           1.        ]\n",
      " [ 24.34889868  21.16182573  23.49926579  24.20775194  13.02391629\n",
      "    1.           1.           1.          29.3995994    1.\n",
      "    1.          45.15026455          nan   5.85081739          inf\n",
      "           nan   1.           1.           1.           1.\n",
      "   33.77181208   3.3540146 ]\n",
      " [  1.87665198   1.43153527   1.98237885   1.94573643   2.26457399\n",
      "           inf          inf          inf  15.27040561          inf\n",
      "           inf   1.66137566          nan          inf   2.44129722\n",
      "           nan          inf   3.39449541          inf 318.80952381\n",
      "    2.48322148   2.24452555]\n",
      " [ 10.64757709  10.53319502  11.2041116   12.07364341  12.34678625\n",
      "           inf          inf          inf   7.43740611          inf\n",
      "           inf  11.69179894          nan   3.63059893          inf\n",
      "           nan          inf   9.22782875 205.26608579 331.33415435\n",
      "    3.03691275   4.68978102]\n",
      " [152.35682819 105.3526971   78.04698972  55.34883721 308.78923767\n",
      "           inf          inf          inf  15.58087131          inf\n",
      "           inf  22.88359788          nan  13.86995088          inf\n",
      "           nan          inf 108.77675841          inf          inf\n",
      "  369.71812081 465.70072993]]\n"
     ]
    },
    {
     "name": "stderr",
     "output_type": "stream",
     "text": [
      "<ipython-input-92-2db62c6f062b>:1: RuntimeWarning: invalid value encountered in true_divide\n",
      "  normalized_Evals = Averaged_Evals/min_Evals\n"
     ]
    }
   ],
   "source": [
    "normalized_Evals = Averaged_Evals/min_Evals\n",
    "print(normalized_Evals)"
   ]
  },
  {
   "cell_type": "code",
   "execution_count": 93,
   "metadata": {},
   "outputs": [],
   "source": [
    "tau_vals = np.exp2(np.arange(0,12,0.01))\n",
    "num_tau_vals = len(tau_vals)"
   ]
  },
  {
   "cell_type": "code",
   "execution_count": 94,
   "metadata": {},
   "outputs": [
    {
     "name": "stdout",
     "output_type": "stream",
     "text": [
      "[[  1.           1.           1.           1.           1.\n",
      "           inf          inf          inf   1.                  inf\n",
      "           inf   1.                  inf   1.           1.\n",
      "           inf          inf   1.28134557          inf 297.863711\n",
      "    1.           1.        ]\n",
      " [ 24.34889868  21.16182573  23.49926579  24.20775194  13.02391629\n",
      "    1.           1.           1.          29.3995994    1.\n",
      "    1.          45.15026455          inf   5.85081739          inf\n",
      "           inf   1.           1.           1.           1.\n",
      "   33.77181208   3.3540146 ]\n",
      " [  1.87665198   1.43153527   1.98237885   1.94573643   2.26457399\n",
      "           inf          inf          inf  15.27040561          inf\n",
      "           inf   1.66137566          inf          inf   2.44129722\n",
      "           inf          inf   3.39449541          inf 318.80952381\n",
      "    2.48322148   2.24452555]\n",
      " [ 10.64757709  10.53319502  11.2041116   12.07364341  12.34678625\n",
      "           inf          inf          inf   7.43740611          inf\n",
      "           inf  11.69179894          inf   3.63059893          inf\n",
      "           inf          inf   9.22782875 205.26608579 331.33415435\n",
      "    3.03691275   4.68978102]\n",
      " [152.35682819 105.3526971   78.04698972  55.34883721 308.78923767\n",
      "           inf          inf          inf  15.58087131          inf\n",
      "           inf  22.88359788          inf  13.86995088          inf\n",
      "           inf          inf 108.77675841          inf          inf\n",
      "  369.71812081 465.70072993]]\n"
     ]
    }
   ],
   "source": [
    "for i in range(normalized_Evals.shape[0]):\n",
    "    for j in range(normalized_Evals.shape[1]):\n",
    "        if math.isnan(normalized_Evals[i,j]):\n",
    "            normalized_Evals[i,j] = np.inf\n",
    "     \n",
    "print(normalized_Evals)"
   ]
  },
  {
   "cell_type": "code",
   "execution_count": 95,
   "metadata": {},
   "outputs": [
    {
     "name": "stdout",
     "output_type": "stream",
     "text": [
      "[[0.5        0.5        0.5        ... 0.59090909 0.59090909 0.59090909]\n",
      " [0.40909091 0.40909091 0.40909091 ... 0.86363636 0.86363636 0.86363636]\n",
      " [0.         0.         0.         ... 0.54545455 0.54545455 0.54545455]\n",
      " [0.         0.         0.         ... 0.59090909 0.59090909 0.59090909]\n",
      " [0.         0.         0.         ... 0.5        0.5        0.5       ]]\n"
     ]
    }
   ],
   "source": [
    "NumProbs = normalized_Evals.shape[1]\n",
    "rho_vals = np.zeros((5,num_tau_vals))\n",
    "\n",
    "for j in range(num_tau_vals):\n",
    "    for i in range(5):\n",
    "        rho_vals[i,j] = np.count_nonzero(normalized_Evals[i,:]<=tau_vals[j])/NumProbs\n",
    "\n",
    "print(rho_vals)"
   ]
  },
  {
   "cell_type": "code",
   "execution_count": 96,
   "metadata": {},
   "outputs": [
    {
     "name": "stdout",
     "output_type": "stream",
     "text": [
      "22\n"
     ]
    }
   ],
   "source": [
    "print(NumProbs)"
   ]
  },
  {
   "cell_type": "code",
   "execution_count": 97,
   "metadata": {},
   "outputs": [
    {
     "data": {
      "image/png": "[encoded data removed]",
      "text/plain": [
       "<Figure size 432x288 with 1 Axes>"
      ]
     },
     "metadata": {
      "needs_background": "light"
     },
     "output_type": "display_data"
    }
   ],
   "source": [
    "# Plotting\n",
    "\n",
    "plt.semilogx(tau_vals, rho_vals[0,:], label=\"STP\",\n",
    "             color = 'orange', alpha=0.5, linestyle= '--',basex=2)\n",
    "plt.semilogx(tau_vals, rho_vals[1,:], label=\"GLD\",\n",
    "             color = 'blue', alpha=0.5, linestyle= '--',basex=2)\n",
    "plt.semilogx(tau_vals, rho_vals[2,:], label=\"SignOPT\",\n",
    "             color = 'black', alpha=0.5, linestyle= '--',basex=2)\n",
    "plt.semilogx(tau_vals, rho_vals[3,:], label=\"CMA-ES\",\n",
    "             color = 'green', alpha=0.5, linestyle= '--',basex=2)\n",
    "plt.semilogx(tau_vals, rho_vals[4,:], label=\"SCOBO\",\n",
    "             color = 'magenta', alpha=0.5, linestyle= '--',basex=2)\n",
    "plt.legend()\n",
    "plt.show()\n",
    "# plt.savefig('PerformanceProfile_func_1e5.pdf')\n"
   ]
  },
  {
   "cell_type": "code",
   "execution_count": 98,
   "metadata": {},
   "outputs": [
    {
     "name": "stdout",
     "output_type": "stream",
     "text": [
      "100000\n"
     ]
    }
   ],
   "source": [
    "print(function_budget)"
   ]
  },
  {
   "cell_type": "code",
   "execution_count": null,
   "metadata": {},
   "outputs": [],
   "source": []
  }
 ],
 "metadata": {
  "kernelspec": {
   "display_name": "Python 3",
   "language": "python",
   "name": "python3"
  },
  "language_info": {
   "codemirror_mode": {
    "name": "ipython",
    "version": 3
   },
   "file_extension": ".py",
   "mimetype": "text/x-python",
   "name": "python",
   "nbconvert_exporter": "python",
   "pygments_lexer": "ipython3",
   "version": "3.8.10"
  }
 },
 "nbformat": 4,
 "nbformat_minor": 4
}
