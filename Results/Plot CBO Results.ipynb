{
 "cells": [
  {
   "cell_type": "code",
   "execution_count": 1,
   "metadata": {},
   "outputs": [],
   "source": [
    "import numpy as np\n",
    "import pickle as pkl\n",
    "import matplotlib.pyplot as plt\n",
    "import math"
   ]
  },
  {
   "cell_type": "code",
   "execution_count": 2,
   "metadata": {},
   "outputs": [],
   "source": [
    "# Load Data from pickle file\n",
    "myFile = open('Comparison_Opt_March_9_grad_1e5.p', 'rb')\n",
    "results = pkl.load(myFile)\n",
    "# myFile.close()\n",
    "# myFile2 = open('Comparison_Opt_May_25_4.p', 'rb')\n",
    "#results2 = pkl.load(myFile2)\n",
    "myFile.close()"
   ]
  },
  {
   "cell_type": "code",
   "execution_count": 3,
   "metadata": {},
   "outputs": [],
   "source": [
    "Evals = results[\"Evals\"]\n",
    "# Evals2 = results2[\"Evals\"]\n",
    "function_budget = results[\"function_budget\"]"
   ]
  },
  {
   "cell_type": "code",
   "execution_count": 4,
   "metadata": {},
   "outputs": [
    {
     "name": "stdout",
     "output_type": "stream",
     "text": [
      "(5, 22, 5)\n"
     ]
    }
   ],
   "source": [
    "print(Evals.shape)"
   ]
  },
  {
   "cell_type": "code",
   "execution_count": 5,
   "metadata": {},
   "outputs": [
    {
     "ename": "NameError",
     "evalue": "name 'Evals2' is not defined",
     "output_type": "error",
     "traceback": [
      "\u001b[0;31m---------------------------------------------------------------------------\u001b[0m",
      "\u001b[0;31mNameError\u001b[0m                                 Traceback (most recent call last)",
      "\u001b[0;32m<ipython-input-5-05b3cd290291>\u001b[0m in \u001b[0;36m<module>\u001b[0;34m\u001b[0m\n\u001b[0;32m----> 1\u001b[0;31m \u001b[0mEvals3\u001b[0m \u001b[0;34m=\u001b[0m \u001b[0mnp\u001b[0m\u001b[0;34m.\u001b[0m\u001b[0mconcatenate\u001b[0m\u001b[0;34m(\u001b[0m\u001b[0;34m(\u001b[0m\u001b[0mEvals\u001b[0m\u001b[0;34m,\u001b[0m \u001b[0mEvals2\u001b[0m\u001b[0;34m)\u001b[0m\u001b[0;34m,\u001b[0m\u001b[0maxis\u001b[0m\u001b[0;34m=\u001b[0m\u001b[0;36m1\u001b[0m\u001b[0;34m)\u001b[0m\u001b[0;34m\u001b[0m\u001b[0;34m\u001b[0m\u001b[0m\n\u001b[0m",
      "\u001b[0;31mNameError\u001b[0m: name 'Evals2' is not defined"
     ]
    }
   ],
   "source": [
    "Evals3 = np.concatenate((Evals, Evals2),axis=1)"
   ]
  },
  {
   "cell_type": "code",
   "execution_count": 6,
   "metadata": {},
   "outputs": [
    {
     "name": "stdout",
     "output_type": "stream",
     "text": [
      "[[4.81200e+02 3.72800e+02 2.52400e+02 2.68000e+02 2.88400e+02         inf\n",
      "          inf         inf 7.93600e+02         inf         inf 7.06800e+02\n",
      "          inf 4.45240e+03 1.82920e+04         inf         inf 8.60000e+01\n",
      "          inf 9.51432e+04 5.88000e+01 9.76000e+01]\n",
      " [1.09736e+04 1.04236e+04 6.47440e+03 6.30600e+03 3.45160e+03 7.59640e+03\n",
      "  6.19384e+04 9.26144e+04 2.34048e+04 9.31240e+03 7.74360e+03 3.42508e+04\n",
      "          inf 3.19200e+04         inf         inf 5.60460e+04 1.16400e+02\n",
      "  2.99200e+02 2.47600e+02 1.92840e+03 3.36800e+02]\n",
      " [9.50000e+02 7.08000e+02 5.92000e+02 5.18000e+02 6.02000e+02         inf\n",
      "          inf         inf 1.68040e+04         inf         inf 1.24400e+03\n",
      "          inf         inf 4.49240e+04         inf         inf 4.48000e+02\n",
      "          inf 9.15960e+04 1.52000e+02 2.62000e+02]\n",
      " [5.14000e+03 6.07600e+03 3.48400e+03 2.72800e+03 4.18240e+04         inf\n",
      "          inf         inf 6.89500e+03         inf         inf 7.05700e+03\n",
      "          inf 1.70110e+04         inf         inf         inf 1.16200e+03\n",
      "  6.13756e+04 4.19860e+04 2.53000e+02 1.17100e+03]\n",
      " [6.20400e+04 4.01800e+04 3.14600e+04 1.72600e+04 8.39020e+04         inf\n",
      "          inf         inf 1.25440e+04         inf         inf 1.07200e+04\n",
      "          inf 7.56200e+04         inf         inf         inf 1.72360e+04\n",
      "  9.20220e+04 9.04060e+04 1.80752e+04 4.54056e+04]]\n"
     ]
    }
   ],
   "source": [
    "# average over trials\n",
    "Averaged_Evals = np.mean(Evals, axis=2)\n",
    "# Modify to assign nan to any entries = function_budget, as these\n",
    "# correspond to problems that have not been solved\n",
    "for i in range(Averaged_Evals.shape[0]):\n",
    "    for j in range(Averaged_Evals.shape[1]):\n",
    "        if Averaged_Evals[i,j] >= function_budget:\n",
    "            Averaged_Evals[i,j] = np.inf\n",
    "            \n",
    "print(Averaged_Evals)"
   ]
  },
  {
   "cell_type": "code",
   "execution_count": 7,
   "metadata": {},
   "outputs": [
    {
     "name": "stdout",
     "output_type": "stream",
     "text": [
      "[4.81200e+02 3.72800e+02 2.52400e+02 2.68000e+02 2.88400e+02 7.59640e+03\n",
      " 6.19384e+04 9.26144e+04 7.93600e+02 9.31240e+03 7.74360e+03 7.06800e+02\n",
      "         inf 4.45240e+03 1.82920e+04         inf 5.60460e+04 8.60000e+01\n",
      " 2.99200e+02 2.47600e+02 5.88000e+01 9.76000e+01]\n"
     ]
    }
   ],
   "source": [
    "min_Evals = np.min(Averaged_Evals,axis=0)\n",
    "print(min_Evals)"
   ]
  },
  {
   "cell_type": "code",
   "execution_count": 8,
   "metadata": {},
   "outputs": [
    {
     "name": "stdout",
     "output_type": "stream",
     "text": [
      "[[  1.           1.           1.           1.           1.\n",
      "           inf          inf          inf   1.                  inf\n",
      "           inf   1.                  nan   1.           1.\n",
      "           nan          inf   1.                  inf 384.26171244\n",
      "    1.           1.        ]\n",
      " [ 22.80465503  27.96030043  25.65134707  23.52985075  11.96809986\n",
      "    1.           1.           1.          29.49193548   1.\n",
      "    1.          48.45897001          nan   7.16916719          inf\n",
      "           nan   1.           1.35348837   1.           1.\n",
      "   32.79591837   3.45081967]\n",
      " [  1.97423109   1.89914163   2.34548336   1.93283582   2.08737864\n",
      "           inf          inf          inf  21.17439516          inf\n",
      "           inf   1.76004527          nan          inf   2.45593702\n",
      "           nan          inf   5.20930233          inf 369.93537964\n",
      "    2.58503401   2.68442623]\n",
      " [ 10.68162926  16.29828326  13.80348653  10.17910448 145.02080444\n",
      "           inf          inf          inf   8.68825605          inf\n",
      "           inf   9.9844369           nan   3.82063606          inf\n",
      "           nan          inf  13.51162791 205.13235294 169.57189015\n",
      "    4.30272109  11.99795082]\n",
      " [128.9276808  107.77896996 124.64342314  64.40298507 290.9223301\n",
      "           inf          inf          inf  15.80645161          inf\n",
      "           inf  15.16694963          nan  16.98409846          inf\n",
      "           nan          inf 200.41860465 307.56016043 365.12924071\n",
      "  307.40136054 465.22131148]]\n"
     ]
    },
    {
     "name": "stderr",
     "output_type": "stream",
     "text": [
      "<ipython-input-8-2db62c6f062b>:1: RuntimeWarning: invalid value encountered in true_divide\n",
      "  normalized_Evals = Averaged_Evals/min_Evals\n"
     ]
    }
   ],
   "source": [
    "normalized_Evals = Averaged_Evals/min_Evals\n",
    "print(normalized_Evals)"
   ]
  },
  {
   "cell_type": "code",
   "execution_count": 9,
   "metadata": {},
   "outputs": [],
   "source": [
    "tau_vals = np.exp2(np.arange(0,12,0.01))\n",
    "num_tau_vals = len(tau_vals)"
   ]
  },
  {
   "cell_type": "code",
   "execution_count": 10,
   "metadata": {},
   "outputs": [
    {
     "name": "stdout",
     "output_type": "stream",
     "text": [
      "[[  1.           1.           1.           1.           1.\n",
      "           inf          inf          inf   1.                  inf\n",
      "           inf   1.                  inf   1.           1.\n",
      "           inf          inf   1.                  inf 384.26171244\n",
      "    1.           1.        ]\n",
      " [ 22.80465503  27.96030043  25.65134707  23.52985075  11.96809986\n",
      "    1.           1.           1.          29.49193548   1.\n",
      "    1.          48.45897001          inf   7.16916719          inf\n",
      "           inf   1.           1.35348837   1.           1.\n",
      "   32.79591837   3.45081967]\n",
      " [  1.97423109   1.89914163   2.34548336   1.93283582   2.08737864\n",
      "           inf          inf          inf  21.17439516          inf\n",
      "           inf   1.76004527          inf          inf   2.45593702\n",
      "           inf          inf   5.20930233          inf 369.93537964\n",
      "    2.58503401   2.68442623]\n",
      " [ 10.68162926  16.29828326  13.80348653  10.17910448 145.02080444\n",
      "           inf          inf          inf   8.68825605          inf\n",
      "           inf   9.9844369           inf   3.82063606          inf\n",
      "           inf          inf  13.51162791 205.13235294 169.57189015\n",
      "    4.30272109  11.99795082]\n",
      " [128.9276808  107.77896996 124.64342314  64.40298507 290.9223301\n",
      "           inf          inf          inf  15.80645161          inf\n",
      "           inf  15.16694963          inf  16.98409846          inf\n",
      "           inf          inf 200.41860465 307.56016043 365.12924071\n",
      "  307.40136054 465.22131148]]\n"
     ]
    }
   ],
   "source": [
    "for i in range(normalized_Evals.shape[0]):\n",
    "    for j in range(normalized_Evals.shape[1]):\n",
    "        if math.isnan(normalized_Evals[i,j]):\n",
    "            normalized_Evals[i,j] = np.inf\n",
    "     \n",
    "print(normalized_Evals)"
   ]
  },
  {
   "cell_type": "code",
   "execution_count": 11,
   "metadata": {},
   "outputs": [
    {
     "name": "stdout",
     "output_type": "stream",
     "text": [
      "[[0.54545455 0.54545455 0.54545455 ... 0.59090909 0.59090909 0.59090909]\n",
      " [0.36363636 0.36363636 0.36363636 ... 0.86363636 0.86363636 0.86363636]\n",
      " [0.         0.         0.         ... 0.54545455 0.54545455 0.54545455]\n",
      " [0.         0.         0.         ... 0.59090909 0.59090909 0.59090909]\n",
      " [0.         0.         0.         ... 0.59090909 0.59090909 0.59090909]]\n"
     ]
    }
   ],
   "source": [
    "NumProbs = normalized_Evals.shape[1]\n",
    "rho_vals = np.zeros((5,num_tau_vals))\n",
    "\n",
    "for j in range(num_tau_vals):\n",
    "    for i in range(5):\n",
    "        rho_vals[i,j] = np.count_nonzero(normalized_Evals[i,:]<=tau_vals[j])/NumProbs\n",
    "\n",
    "print(rho_vals)"
   ]
  },
  {
   "cell_type": "code",
   "execution_count": 12,
   "metadata": {},
   "outputs": [
    {
     "name": "stdout",
     "output_type": "stream",
     "text": [
      "22\n"
     ]
    }
   ],
   "source": [
    "print(NumProbs)"
   ]
  },
  {
   "cell_type": "code",
   "execution_count": 13,
   "metadata": {},
   "outputs": [
    {
     "data": {
      "image/png": "[encoded data removed]",
      "text/plain": [
       "<Figure size 432x288 with 1 Axes>"
      ]
     },
     "metadata": {
      "needs_background": "light"
     },
     "output_type": "display_data"
    }
   ],
   "source": [
    "# Plotting\n",
    "\n",
    "plt.semilogx(tau_vals, rho_vals[0,:], label=\"STP\",\n",
    "             color = 'orange', alpha=0.5, linestyle= '--',basex=2)\n",
    "plt.semilogx(tau_vals, rho_vals[1,:], label=\"GLD\",\n",
    "             color = 'blue', alpha=0.5, linestyle= '--',basex=2)\n",
    "plt.semilogx(tau_vals, rho_vals[2,:], label=\"SignOPT\",\n",
    "             color = 'black', alpha=0.5, linestyle= '--',basex=2)\n",
    "plt.semilogx(tau_vals, rho_vals[3,:], label=\"CMA-ES\",\n",
    "             color = 'green', alpha=0.5, linestyle= '--',basex=2)\n",
    "plt.semilogx(tau_vals, rho_vals[4,:], label=\"SCOBO\",\n",
    "             color = 'magenta', alpha=0.5, linestyle= '--',basex=2)\n",
    "plt.legend()\n",
    "plt.show()\n",
    "# plt.savefig('PerformanceProfile_func_1e5.pdf')\n"
   ]
  },
  {
   "cell_type": "code",
   "execution_count": null,
   "metadata": {},
   "outputs": [],
   "source": [
    "print(function_budget)"
   ]
  },
  {
   "cell_type": "code",
   "execution_count": null,
   "metadata": {},
   "outputs": [],
   "source": []
  }
 ],
 "metadata": {
  "kernelspec": {
   "display_name": "Python 3",
   "language": "python",
   "name": "python3"
  },
  "language_info": {
   "codemirror_mode": {
    "name": "ipython",
    "version": 3
   },
   "file_extension": ".py",
   "mimetype": "text/x-python",
   "name": "python",
   "nbconvert_exporter": "python",
   "pygments_lexer": "ipython3",
   "version": "3.8.10"
  }
 },
 "nbformat": 4,
 "nbformat_minor": 4
}
