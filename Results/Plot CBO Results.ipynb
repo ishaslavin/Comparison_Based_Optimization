{
 "cells": [
  {
   "cell_type": "code",
   "execution_count": 1,
   "metadata": {},
   "outputs": [],
   "source": [
    "import numpy as np\n",
    "import pickle as pkl\n",
    "import matplotlib.pyplot as plt"
   ]
  },
  {
   "cell_type": "code",
   "execution_count": 28,
   "metadata": {},
   "outputs": [],
   "source": [
    "# Load Data from pickle file\n",
    "myFile = open('Comparison_Opt_June_1st.p', 'rb')\n",
    "results = pkl.load(myFile)\n",
    "myFile.close()\n",
    "myFile2 = open('Comparison_Opt_May_25_4.p', 'rb')\n",
    "results2 = pkl.load(myFile2)\n",
    "myFile.close()"
   ]
  },
  {
   "cell_type": "code",
   "execution_count": 29,
   "metadata": {},
   "outputs": [],
   "source": [
    "Evals = results[\"Evals\"]\n",
    "Evals2 = results2[\"Evals\"]\n",
    "function_budget = results[\"function_budget\"]"
   ]
  },
  {
   "cell_type": "code",
   "execution_count": 35,
   "metadata": {},
   "outputs": [
    {
     "name": "stdout",
     "output_type": "stream",
     "text": [
      "(1, 20, 10)\n",
      "(4, 22, 10)\n"
     ]
    }
   ],
   "source": [
    "print(Evals2.shape)\n",
    "print(Evals.shape)"
   ]
  },
  {
   "cell_type": "code",
   "execution_count": 32,
   "metadata": {},
   "outputs": [
    {
     "ename": "ValueError",
     "evalue": "all the input array dimensions for the concatenation axis must match exactly, but along dimension 0, the array at index 0 has size 4 and the array at index 1 has size 1",
     "output_type": "error",
     "traceback": [
      "\u001b[0;31m---------------------------------------------------------------------------\u001b[0m",
      "\u001b[0;31mValueError\u001b[0m                                Traceback (most recent call last)",
      "\u001b[0;32m<ipython-input-32-05b3cd290291>\u001b[0m in \u001b[0;36m<module>\u001b[0;34m\u001b[0m\n\u001b[0;32m----> 1\u001b[0;31m \u001b[0mEvals3\u001b[0m \u001b[0;34m=\u001b[0m \u001b[0mnp\u001b[0m\u001b[0;34m.\u001b[0m\u001b[0mconcatenate\u001b[0m\u001b[0;34m(\u001b[0m\u001b[0;34m(\u001b[0m\u001b[0mEvals\u001b[0m\u001b[0;34m,\u001b[0m \u001b[0mEvals2\u001b[0m\u001b[0;34m)\u001b[0m\u001b[0;34m,\u001b[0m\u001b[0maxis\u001b[0m\u001b[0;34m=\u001b[0m\u001b[0;36m1\u001b[0m\u001b[0;34m)\u001b[0m\u001b[0;34m\u001b[0m\u001b[0;34m\u001b[0m\u001b[0m\n\u001b[0m",
      "\u001b[0;32m<__array_function__ internals>\u001b[0m in \u001b[0;36mconcatenate\u001b[0;34m(*args, **kwargs)\u001b[0m\n",
      "\u001b[0;31mValueError\u001b[0m: all the input array dimensions for the concatenation axis must match exactly, but along dimension 0, the array at index 0 has size 4 and the array at index 1 has size 1"
     ]
    }
   ],
   "source": [
    "Evals3 = np.concatenate((Evals, Evals2),axis=1)"
   ]
  },
  {
   "cell_type": "code",
   "execution_count": 19,
   "metadata": {},
   "outputs": [
    {
     "name": "stdout",
     "output_type": "stream",
     "text": [
      "[[3.0000e+02 3.1800e+02 2.8200e+02 2.0700e+02 1.8400e+02        nan\n",
      "         nan        nan 3.6200e+02        nan        nan 4.7500e+02\n",
      "         nan 4.0520e+03        nan 1.8790e+03 2.0000e+00 4.7000e+01\n",
      "         nan        nan        nan 5.3000e+01]\n",
      " [9.3370e+03 9.0710e+03 6.5460e+03 5.7530e+03 2.8060e+03        nan\n",
      "         nan        nan        nan 7.4450e+03 6.7940e+03        nan\n",
      "         nan        nan        nan        nan 2.0000e+00 9.9000e+01\n",
      "  1.1500e+02        nan        nan 3.3400e+02]\n",
      " [4.7500e+02 5.7500e+02 5.8000e+02 3.6500e+02 4.7000e+02        nan\n",
      "         nan        nan 5.8500e+02        nan        nan 6.9500e+02\n",
      "         nan        nan        nan 4.0150e+03 1.0000e+01 1.2000e+02\n",
      "         nan        nan        nan 2.0500e+02]\n",
      " [3.4885e+03 3.0160e+03 3.1960e+03 3.8710e+03 1.6885e+03        nan\n",
      "         nan        nan 4.6810e+03        nan        nan 5.1535e+03\n",
      "         nan        nan        nan        nan 1.0000e+00 7.2100e+02\n",
      "         nan        nan        nan 4.9600e+02]]\n"
     ]
    }
   ],
   "source": [
    "# average over trials\n",
    "Averaged_Evals = np.mean(Evals, axis=2)\n",
    "# Modify to assign nan to any entries = function_budget, as these\n",
    "# correspond to problems that have not been solved\n",
    "for i in range(Averaged_Evals.shape[0]):\n",
    "    for j in range(Averaged_Evals.shape[1]):\n",
    "        if Averaged_Evals[i,j] >= function_budget:\n",
    "            Averaged_Evals[i,j] = np.nan\n",
    "            \n",
    "print(Averaged_Evals)"
   ]
  },
  {
   "cell_type": "code",
   "execution_count": 20,
   "metadata": {},
   "outputs": [],
   "source": [
    "min_Evals = np.min(Averaged_Evals,axis=0)"
   ]
  },
  {
   "cell_type": "code",
   "execution_count": 21,
   "metadata": {},
   "outputs": [
    {
     "name": "stdout",
     "output_type": "stream",
     "text": [
      "[[ 1.          1.          1.          1.          1.                 nan\n",
      "          nan         nan         nan         nan         nan         nan\n",
      "          nan         nan         nan         nan  2.          1.\n",
      "          nan         nan         nan  1.        ]\n",
      " [31.12333333 28.52515723 23.21276596 27.79227053 15.25               nan\n",
      "          nan         nan         nan         nan         nan         nan\n",
      "          nan         nan         nan         nan  2.          2.10638298\n",
      "          nan         nan         nan  6.30188679]\n",
      " [ 1.58333333  1.8081761   2.05673759  1.76328502  2.55434783         nan\n",
      "          nan         nan         nan         nan         nan         nan\n",
      "          nan         nan         nan         nan 10.          2.55319149\n",
      "          nan         nan         nan  3.86792453]\n",
      " [11.62833333  9.48427673 11.33333333 18.70048309  9.17663043         nan\n",
      "          nan         nan         nan         nan         nan         nan\n",
      "          nan         nan         nan         nan  1.         15.34042553\n",
      "          nan         nan         nan  9.35849057]]\n"
     ]
    }
   ],
   "source": [
    "normalized_Evals = Averaged_Evals/min_Evals\n",
    "print(normalized_Evals)"
   ]
  },
  {
   "cell_type": "code",
   "execution_count": 22,
   "metadata": {},
   "outputs": [],
   "source": [
    "tau_vals = np.exp2(np.arange(0,12,0.01))\n",
    "num_tau_vals = len(tau_vals)"
   ]
  },
  {
   "cell_type": "code",
   "execution_count": 23,
   "metadata": {},
   "outputs": [
    {
     "name": "stdout",
     "output_type": "stream",
     "text": [
      "[[0.31818182 0.31818182 0.31818182 ... 0.36363636 0.36363636 0.36363636]\n",
      " [0.         0.         0.         ... 0.36363636 0.36363636 0.36363636]\n",
      " [0.         0.         0.         ... 0.36363636 0.36363636 0.36363636]\n",
      " [0.04545455 0.04545455 0.04545455 ... 0.36363636 0.36363636 0.36363636]]\n"
     ]
    }
   ],
   "source": [
    "NumProbs = normalized_Evals.shape[1]\n",
    "rho_vals = np.zeros((4,num_tau_vals))\n",
    "\n",
    "for j in range(num_tau_vals):\n",
    "    for i in range(4):\n",
    "        rho_vals[i,j] = np.count_nonzero(normalized_Evals[i,:]<=tau_vals[j])/NumProbs\n",
    "\n",
    "print(rho_vals)"
   ]
  },
  {
   "cell_type": "code",
   "execution_count": 24,
   "metadata": {},
   "outputs": [
    {
     "name": "stdout",
     "output_type": "stream",
     "text": [
      "22\n"
     ]
    }
   ],
   "source": [
    "print(NumProbs)"
   ]
  },
  {
   "cell_type": "code",
   "execution_count": 25,
   "metadata": {},
   "outputs": [
    {
     "data": {
      "image/png": "[encoded data removed]",
      "text/plain": [
       "<Figure size 432x288 with 1 Axes>"
      ]
     },
     "metadata": {
      "needs_background": "light"
     },
     "output_type": "display_data"
    }
   ],
   "source": [
    "# Plotting\n",
    "\n",
    "plt.semilogx(tau_vals, rho_vals[0,:], label=\"STP\",\n",
    "             color = 'blue', alpha=0.5, linestyle= '--',base=2)\n",
    "plt.semilogx(tau_vals, rho_vals[1,:], label=\"GLD\",\n",
    "             color = 'red', alpha=0.5, linestyle= '--', base=2)\n",
    "plt.semilogx(tau_vals, rho_vals[2,:], label=\"SignOPT\",\n",
    "             color = 'orange', alpha=0.5, linestyle= '--', base=2)\n",
    "plt.semilogx(tau_vals, rho_vals[3,:], label=\"CMA-ES\",\n",
    "             color = 'magenta', alpha=0.5, linestyle= '--', base=2)\n",
    "plt.legend()\n",
    "# plt.show()\n",
    "plt.savefig('PerformanceProfile_1e4_2.pdf')\n"
   ]
  },
  {
   "cell_type": "code",
   "execution_count": null,
   "metadata": {},
   "outputs": [],
   "source": []
  }
 ],
 "metadata": {
  "kernelspec": {
   "display_name": "Python 3",
   "language": "python",
   "name": "python3"
  },
  "language_info": {
   "codemirror_mode": {
    "name": "ipython",
    "version": 3
   },
   "file_extension": ".py",
   "mimetype": "text/x-python",
   "name": "python",
   "nbconvert_exporter": "python",
   "pygments_lexer": "ipython3",
   "version": "3.8.10"
  }
 },
 "nbformat": 4,
 "nbformat_minor": 4
}
