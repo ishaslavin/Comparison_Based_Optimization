{
 "cells": [
  {
   "cell_type": "code",
   "execution_count": 52,
   "metadata": {},
   "outputs": [],
   "source": [
    "import numpy as np\n",
    "import pickle as pkl\n",
    "import matplotlib.pyplot as plt"
   ]
  },
  {
   "cell_type": "code",
   "execution_count": 36,
   "metadata": {},
   "outputs": [],
   "source": [
    "# Load Data from pickle file\n",
    "myFile = open('Comparison_Opt_May_25.p', 'rb')\n",
    "results = pkl.load(myFile)\n",
    "myFile.close()"
   ]
  },
  {
   "cell_type": "code",
   "execution_count": 37,
   "metadata": {},
   "outputs": [],
   "source": [
    "Evals = results[\"Evals\"]"
   ]
  },
  {
   "cell_type": "code",
   "execution_count": 38,
   "metadata": {},
   "outputs": [],
   "source": [
    "# average over trials\n",
    "Averaged_Evals = np.mean(Evals, axis=2)"
   ]
  },
  {
   "cell_type": "code",
   "execution_count": 39,
   "metadata": {},
   "outputs": [
    {
     "name": "stdout",
     "output_type": "stream",
     "text": [
      "[[3.2900e+02 3.1100e+02 2.5500e+02 1.8800e+02 2.0400e+02 5.0000e+03\n",
      "  5.0000e+03 5.0000e+03 4.7000e+02 5.0000e+03 5.0000e+03 4.2800e+02\n",
      "  5.0000e+03 3.6100e+03 5.0000e+03 1.9910e+03 2.0000e+00 9.2000e+01\n",
      "  5.0000e+03 5.0000e+03 5.0000e+03 6.4000e+01]\n",
      " [5.0000e+03 5.0000e+03 5.0000e+03 5.0000e+03 2.8370e+03 5.0000e+03\n",
      "  5.0000e+03 5.0000e+03 5.0000e+03 5.0000e+03 5.0000e+03 5.0000e+03\n",
      "  5.0000e+03 5.0000e+03 5.0000e+03 5.0000e+03 2.0000e+00 1.0800e+02\n",
      "  1.1700e+02 5.0000e+03 5.0000e+03 3.2500e+02]\n",
      " [5.1500e+02 4.9500e+02 5.2500e+02 3.6500e+02 4.9000e+02 5.0000e+03\n",
      "  5.0000e+03 5.0000e+03 7.0000e+02 5.0000e+03 5.0000e+03 7.2500e+02\n",
      "  5.0000e+03 5.0000e+03 5.0000e+03 4.0600e+03 1.0000e+01 8.0000e+01\n",
      "  5.0000e+03 5.0000e+03 5.0000e+03 2.3000e+02]\n",
      " [3.8260e+03 3.1735e+03 3.0610e+03 2.1385e+03 1.5535e+03 5.0410e+03\n",
      "  5.0410e+03 5.0410e+03 4.1860e+03 5.0410e+03 5.0410e+03 4.5235e+03\n",
      "  5.0410e+03 5.0410e+03 5.0410e+03 5.0410e+03 1.0000e+00 2.7910e+03\n",
      "  5.0410e+03 5.0410e+03 5.0410e+03 4.7350e+02]]\n"
     ]
    }
   ],
   "source": [
    "print(Averaged_Evals)"
   ]
  },
  {
   "cell_type": "code",
   "execution_count": 40,
   "metadata": {},
   "outputs": [],
   "source": [
    "min_Evals = np.min(Averaged_Evals,axis=0)"
   ]
  },
  {
   "cell_type": "code",
   "execution_count": 41,
   "metadata": {},
   "outputs": [
    {
     "name": "stdout",
     "output_type": "stream",
     "text": [
      "[[ 1.          1.          1.          1.          1.          1.\n",
      "   1.          1.          1.          1.          1.          1.\n",
      "   1.          1.          1.          1.          2.          1.15\n",
      "  42.73504274  1.          1.          1.        ]\n",
      " [15.19756839 16.07717042 19.60784314 26.59574468 13.90686275  1.\n",
      "   1.          1.         10.63829787  1.          1.         11.68224299\n",
      "   1.          1.38504155  1.          2.51130085  2.          1.35\n",
      "   1.          1.          1.          5.078125  ]\n",
      " [ 1.56534954  1.59163987  2.05882353  1.94148936  2.40196078  1.\n",
      "   1.          1.          1.4893617   1.          1.          1.69392523\n",
      "   1.          1.38504155  1.          2.03917629 10.          1.\n",
      "  42.73504274  1.          1.          3.59375   ]\n",
      " [11.62917933 10.20418006 12.00392157 11.375       7.61519608  1.0082\n",
      "   1.0082      1.0082      8.90638298  1.0082      1.0082     10.56892523\n",
      "   1.0082      1.39639889  1.0082      2.53189352  1.         34.8875\n",
      "  43.08547009  1.0082      1.0082      7.3984375 ]]\n"
     ]
    }
   ],
   "source": [
    "normalized_Evals = Averaged_Evals/min_Evals\n",
    "print(normalized_Evals)"
   ]
  },
  {
   "cell_type": "code",
   "execution_count": 45,
   "metadata": {},
   "outputs": [],
   "source": [
    "tau_vals = np.exp2(np.arange(0,12,0.01))\n",
    "num_tau_vals = len(tau_vals)"
   ]
  },
  {
   "cell_type": "code",
   "execution_count": 50,
   "metadata": {},
   "outputs": [
    {
     "name": "stdout",
     "output_type": "stream",
     "text": [
      "[[0.86363636 0.86363636 0.86363636 ... 1.         1.         1.        ]\n",
      " [0.45454545 0.45454545 0.45454545 ... 1.         1.         1.        ]\n",
      " [0.45454545 0.45454545 0.45454545 ... 1.         1.         1.        ]\n",
      " [0.04545455 0.04545455 0.45454545 ... 1.         1.         1.        ]]\n"
     ]
    }
   ],
   "source": [
    "NumProbs = normalized_Evals.shape[1]\n",
    "rho_vals = np.zeros((4,num_tau_vals))\n",
    "\n",
    "for j in range(num_tau_vals):\n",
    "    for i in range(4):\n",
    "        rho_vals[i,j] = np.count_nonzero(normalized_Evals[i,:]<=tau_vals[j])/NumProbs\n",
    "\n",
    "print(rho_vals)"
   ]
  },
  {
   "cell_type": "code",
   "execution_count": 49,
   "metadata": {},
   "outputs": [
    {
     "name": "stdout",
     "output_type": "stream",
     "text": [
      "22\n"
     ]
    }
   ],
   "source": [
    "print(NumProbs)"
   ]
  },
  {
   "cell_type": "code",
   "execution_count": 58,
   "metadata": {},
   "outputs": [
    {
     "data": {
      "image/png": "[encoded data removed]",
      "text/plain": [
       "<Figure size 432x288 with 1 Axes>"
      ]
     },
     "metadata": {
      "needs_background": "light"
     },
     "output_type": "display_data"
    }
   ],
   "source": [
    "# Plotting\n",
    "\n",
    "plt.semilogx(tau_vals, rho_vals[0,:], label=\"STP\",\n",
    "             color = 'blue', linestyle= '--', marker = 'o', base=2)\n",
    "plt.semilogx(tau_vals, rho_vals[1,:], label=\"GLD\",\n",
    "             color = 'red', linestyle= '--', marker = 'o', base=2)\n",
    "plt.semilogx(tau_vals, rho_vals[2,:], label=\"SignOPT\",\n",
    "             color = 'orange', linestyle= '--', marker = 'o', base=2)\n",
    "plt.semilogx(tau_vals, rho_vals[3,:], label=\"CMA-ES\",\n",
    "             color = 'magenta', linestyle= '--', marker = 'o', base=2)\n",
    "plt.legend()\n",
    "plt.show()\n",
    "\n"
   ]
  },
  {
   "cell_type": "code",
   "execution_count": null,
   "metadata": {},
   "outputs": [],
   "source": []
  }
 ],
 "metadata": {
  "kernelspec": {
   "display_name": "Python 3",
   "language": "python",
   "name": "python3"
  },
  "language_info": {
   "codemirror_mode": {
    "name": "ipython",
    "version": 3
   },
   "file_extension": ".py",
   "mimetype": "text/x-python",
   "name": "python",
   "nbconvert_exporter": "python",
   "pygments_lexer": "ipython3",
   "version": "3.7.3"
  }
 },
 "nbformat": 4,
 "nbformat_minor": 4
}
